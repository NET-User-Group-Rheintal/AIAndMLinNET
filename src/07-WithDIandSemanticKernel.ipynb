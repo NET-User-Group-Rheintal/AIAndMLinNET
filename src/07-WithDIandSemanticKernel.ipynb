{
 "cells": [
  {
   "cell_type": "markdown",
   "metadata": {},
   "source": [
    "# Semantic Kernel"
   ]
  },
  {
   "cell_type": "markdown",
   "metadata": {},
   "source": [
    "## Install NuGet"
   ]
  },
  {
   "cell_type": "code",
   "execution_count": 29,
   "metadata": {
    "dotnet_interactive": {
     "language": "csharp"
    },
    "polyglot_notebook": {
     "kernelName": "csharp"
    }
   },
   "outputs": [
    {
     "data": {
      "text/html": [
       "<div><div></div><div></div><div><strong>Installed Packages</strong><ul><li><span>Microsoft.DotNet.Interactive, 1.0.0-beta.24229.4</span></li><li><span>Microsoft.Extensions.Hosting, 8.0.0</span></li><li><span>Microsoft.SemanticKernel, 1.13.0</span></li></ul></div></div>"
      ]
     },
     "metadata": {},
     "output_type": "display_data"
    }
   ],
   "source": [
    "#r \"nuget: Microsoft.Extensions.Hosting, 8.0.0\"\n",
    "#r \"nuget: Microsoft.SemanticKernel, 1.13.0\"\n",
    "#r \"nuget: Microsoft.DotNet.Interactive, 1.0.0-beta.24229.4\""
   ]
  },
  {
   "cell_type": "markdown",
   "metadata": {},
   "source": [
    "## Add usings"
   ]
  },
  {
   "cell_type": "code",
   "execution_count": 30,
   "metadata": {},
   "outputs": [],
   "source": [
    "using Microsoft.Extensions.DependencyInjection;\n",
    "using Microsoft.Extensions.Hosting;\n",
    "using Microsoft.SemanticKernel;\n",
    "using Microsoft.SemanticKernel.ChatCompletion;\n",
    "using Microsoft.DotNet.Interactive;"
   ]
  },
  {
   "cell_type": "markdown",
   "metadata": {},
   "source": [
    "## Create DI Container"
   ]
  },
  {
   "cell_type": "code",
   "execution_count": 31,
   "metadata": {},
   "outputs": [],
   "source": [
    "var builder = Host.CreateEmptyApplicationBuilder(new HostApplicationBuilderSettings());"
   ]
  },
  {
   "cell_type": "markdown",
   "metadata": {},
   "source": [
    "# Add OpenAi Service"
   ]
  },
  {
   "cell_type": "code",
   "execution_count": 32,
   "metadata": {},
   "outputs": [],
   "source": [
    "builder.Services.AddOpenAIChatCompletion(\"gpt-4o\", Environment.GetEnvironmentVariable(\"OAI_KEY\")!);\n",
    "var app = builder.Build();\n",
    "var chat = app.Services.GetRequiredService<IChatCompletionService>();\n"
   ]
  },
  {
   "cell_type": "markdown",
   "metadata": {},
   "source": [
    "# Add ChatHistory"
   ]
  },
  {
   "cell_type": "code",
   "execution_count": 33,
   "metadata": {},
   "outputs": [],
   "source": [
    "var chatHistory = new ChatHistory();"
   ]
  },
  {
   "cell_type": "markdown",
   "metadata": {},
   "source": [
    "# Chat"
   ]
  },
  {
   "cell_type": "code",
   "execution_count": 41,
   "metadata": {},
   "outputs": [
    {
     "name": "stdout",
     "output_type": "stream",
     "text": [
      "AI: What am I?\n",
      "Marco: \n",
      "AI: Cool! How can I help?\n",
      "Marco: Where do I get mana?\n",
      "AI: \n",
      "To restore or get mana in Warcraft III, you have several options:\n",
      "\n",
      "1. **Mana Regeneration**: Heroes and units naturally regenerate mana over time.\n",
      "   \n",
      "2. **Mana Potions**: Heroes can use items like Mana Potions, which instantly restore a certain amount of mana. These can be purchased from Goblin Merchants.\n",
      "\n",
      "3. **Runes of Mana**: These are often found on the map as drops from creeps or in specific locations and instantly replenish a significant amount of mana.\n",
      "\n",
      "4. **Fountains of Mana**: Some maps feature Fountains of Mana where units can regenerate mana over time if they stay close.\n",
      "\n",
      "5. **Abilities**: Some units and heroes have abilities that can restore mana. For example, the Human Priest has the ability \"Dispel Magic,\" which can remove negative buffs and provide mana to friendly units.\n",
      "\n",
      "6. **Mana Steal and Transfers**: Some abilities allow mana to be transferred or stolen from other units, such as the Spell Breaker's \"Feedback\" ability.\n",
      "\n",
      "7. **Upgrades**: Researching certain upgrades can improve mana regeneration or mana capacity for specific units.\n",
      "\n",
      "These methods will help ensure you have the mana needed to cast your important spells during gameplay."
     ]
    }
   ],
   "source": [
    "Console.WriteLine(\"AI: What am I?\");\n",
    "Console.Write(\"Marco: \");\n",
    "var whatAmI = await Microsoft.DotNet.Interactive.Kernel.GetInputAsync(\"\");\n",
    "Console.WriteLine();\n",
    "chatHistory.AddSystemMessage(whatAmI);\n",
    "Console.WriteLine(\"AI: Cool! How can I help?\");\n",
    "var prompt = await Microsoft.DotNet.Interactive.Kernel.GetInputAsync(\"\");\n",
    "chatHistory.AddUserMessage(prompt);\n",
    "Console.WriteLine(\"Marco: \" + prompt);\n",
    "Console.WriteLine(\"AI: \");\n",
    "await foreach (var response in chat.GetStreamingChatMessageContentsAsync(chatHistory))\n",
    "{\n",
    "   Console.Write(response);\n",
    "}"
   ]
  }
 ],
 "metadata": {
  "kernelspec": {
   "display_name": ".NET (C#)",
   "language": "C#",
   "name": ".net-csharp"
  },
  "polyglot_notebook": {
   "kernelInfo": {
    "defaultKernelName": "csharp",
    "items": [
     {
      "aliases": [],
      "languageName": "csharp",
      "name": "csharp"
     }
    ]
   }
  }
 },
 "nbformat": 4,
 "nbformat_minor": 2
}
