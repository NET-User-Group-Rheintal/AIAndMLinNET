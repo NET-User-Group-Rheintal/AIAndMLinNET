{
 "cells": [
  {
   "cell_type": "markdown",
   "metadata": {},
   "source": [
    "# Adding context to your prompts - Retrieval Augmented Generation (RAG)"
   ]
  },
  {
   "cell_type": "code",
   "execution_count": 1,
   "metadata": {},
   "outputs": [
    {
     "data": {
      "text/html": [
       "<div><div></div><div></div><div><strong>Installed Packages</strong><ul><li><span>Azure.AI.OpenAI, 1.0.0-beta.16</span></li><li><span>Microsoft.DotNet.Interactive, 1.0.0-beta.24229.4</span></li><li><span>System.Numerics.Tensors, 8.0.0</span></li></ul></div></div>"
      ]
     },
     "metadata": {},
     "output_type": "display_data"
    }
   ],
   "source": [
    "#r \"nuget: Azure.AI.OpenAI, 1.0.0-beta.16\"\n",
    "#r \"nuget: Microsoft.DotNet.Interactive, 1.0.0-beta.24229.4\"\n",
    "#r \"nuget: System.Numerics.Tensors, 8.0.0\""
   ]
  },
  {
   "cell_type": "code",
   "execution_count": 2,
   "metadata": {},
   "outputs": [],
   "source": [
    "using System.Collections.Generic;\n",
    "using System.IO;\n",
    "using System.Linq;\n",
    "using System.Text.Json;\n",
    "using Azure.AI.OpenAI;\n",
    "using Microsoft.DotNet.Interactive;\n",
    "using System.Numerics.Tensors;"
   ]
  },
  {
   "cell_type": "markdown",
   "metadata": {},
   "source": [
    "## Get OpenAI API Key"
   ]
  },
  {
   "cell_type": "code",
   "execution_count": 3,
   "metadata": {},
   "outputs": [],
   "source": [
    "var key = Environment.GetEnvironmentVariable(\"OAI_KEY\");"
   ]
  },
  {
   "cell_type": "markdown",
   "metadata": {},
   "source": [
    "## Configure OpenAI client"
   ]
  },
  {
   "cell_type": "code",
   "execution_count": 4,
   "metadata": {},
   "outputs": [],
   "source": [
    "var client = new OpenAIClient(key);"
   ]
  },
  {
   "cell_type": "markdown",
   "metadata": {},
   "source": [
    "## Define system prompt"
   ]
  },
  {
   "cell_type": "code",
   "execution_count": 5,
   "metadata": {},
   "outputs": [],
   "source": [
    "var systemPrompt = \n",
    "    \"\"\"\n",
    "    You are an AI Assistant that helps user answer questions about their data. \n",
    "    \n",
    "    You have access to articles to help you answer questions. \n",
    "    \n",
    "    Use only the contents from these documents to answer questions. \n",
    "    \"\"\";"
   ]
  },
  {
   "cell_type": "markdown",
   "metadata": {},
   "source": [
    "## Define Data Objects"
   ]
  },
  {
   "cell_type": "code",
   "execution_count": 6,
   "metadata": {},
   "outputs": [],
   "source": [
    "public class Data\n",
    "{\n",
    "    public string Text { get; set; }\n",
    "    public float[] Embedding { get; set; }\n",
    "}"
   ]
  },
  {
   "cell_type": "markdown",
   "metadata": {},
   "source": [
    "## Utility Functions"
   ]
  },
  {
   "cell_type": "code",
   "execution_count": 7,
   "metadata": {},
   "outputs": [],
   "source": [
    "string FormatMessage(ChatRequestMessage m)\n",
    "{\n",
    "    if (m.Role == ChatRole.System)\n",
    "        return $\"System: {((ChatRequestSystemMessage)m).Content}\";\n",
    "    else if (m.Role == ChatRole.User)\n",
    "        return $\"User: {((ChatRequestUserMessage)m).Content}\";\n",
    "    else if (m.Role == ChatRole.Assistant)\n",
    "        return $\"Assistant: {((ChatRequestAssistantMessage)m).Content}\";\n",
    "    else\n",
    "        return m.ToString();\n",
    "}\n",
    "\n",
    "string RenderUserPrompt(IEnumerable<ChatRequestMessage> history, string[] documents, string query)\n",
    "{\n",
    "    var chatMessages =\n",
    "        history\n",
    "            .Select(FormatMessage)\n",
    "            .Select(x => $\"{x}\\n\")\n",
    "            .ToArray();\n",
    "\n",
    "    var sources = string.Join('\\n', documents);\n",
    "\n",
    "    var template =\n",
    "        $\"\"\"\n",
    "        ## Chat History\n",
    "\n",
    "        {String.Join('\\n', chatMessages)}\n",
    "\n",
    "        ## Sources\n",
    "\n",
    "        {sources}\n",
    "\n",
    "        ## Query\n",
    "        {query}\n",
    "        \"\"\";\n",
    "\n",
    "    return template;\n",
    "}\n",
    "\n",
    "IEnumerable<Data> GetTopKDocuments(IEnumerable<Data> sources, float[] userQueryEmbedding, int k)\n",
    "{\n",
    "    return sources.Select(document =>\n",
    "        {\n",
    "            var similarity = TensorPrimitives.CosineSimilarity(document.Embedding, userQueryEmbedding);\n",
    "            return (similarity, document);\n",
    "        })\n",
    "        .OrderByDescending(x => x.similarity)\n",
    "        .Take(k)\n",
    "        .Select(x => x.document)\n",
    "        .ToArray();\n",
    "}"
   ]
  },
  {
   "cell_type": "markdown",
   "metadata": {},
   "source": [
    "## Load data"
   ]
  },
  {
   "cell_type": "code",
   "execution_count": 8,
   "metadata": {},
   "outputs": [],
   "source": [
    "var data = File.ReadAllText(\"Data/03-embedding.json\");\n",
    "var sources = JsonSerializer.Deserialize<Data[]>(data);"
   ]
  },
  {
   "cell_type": "markdown",
   "metadata": {},
   "source": [
    "## Display first data entry"
   ]
  },
  {
   "cell_type": "code",
   "execution_count": 9,
   "metadata": {},
   "outputs": [
    {
     "data": {
      "text/html": [
       "<details open=\"open\" class=\"dni-treeview\"><summary><span class=\"dni-code-hint\"><code>Submission#6+Data</code></span></summary><div><table><thead><tr></tr></thead><tbody><tr><td>Text</td><td><div class=\"dni-plaintext\"><pre>Cristiano Ronaldo dos Santos Aveiro GOIH ComM (Portuguese pronunciation: [kɾiʃˈtjɐnu ʁɔˈnaldu]; born 5 February 1985) is a Portuguese professional footballer who plays as a forward for and captains both Saudi Pro League club Al Nassr and the Portugal national team. Widely regarded as one of the greatest players of all time, Ronaldo has won five Ballon d&#39;Or awards,[note 3] a record three UEFA Men&#39;s Player of the Year Awards, and four European Golden Shoes, the most by a European player. He has won 33 trophies in his career, including seven league titles, five UEFA Champions Leagues, the UEFA European Championship and the UEFA Nations League. Ronaldo holds the records for most appearances (183), goals (140) and assists (42) in the Champions League, goals in the European Championship (14), international goals (128) and international appearances (206). He is one of the few players to have made over 1,200 professional career appearances, the most by an outfield player, and has scored over 890 official senior career goals for club and country, making him the top goalscorer of all time.\r\n",
       "\r\n",
       "Ronaldo began his senior career with Sporting CP, before signing with Manchester United in 2003, winning the FA Cup in his first season. He would also go on to win three consecutive Premier League titles, the Champions League and the FIFA Club World Cup; at age 23, he won his first Ballon d&#39;Or. Ronaldo was the subject of the then-most expensive association football transfer when he signed for Real Madrid in 2009 in a transfer worth €94 million (&#163;80 million). He became a key contributor and formed an attacking trio with Karim Benzema and Gareth Bale which was integral to the team winning four Champions Leagues from 2014 to 2018, including La D&#233;cima. During this period, he won back-to-back Ballons d&#39;Or in 2013 and 2014, and again in 2016 and 2017, and was runner-up three times behind Lionel Messi, his perceived career rival. He also became the club&#39;s all-time top goalscorer and the all-time top scorer in the Champions League, and finished as the competition&#39;s top scorer for six consecutive seasons between 2012 and 2018. With Real, Ronaldo won four Champions Leagues, two La Liga titles, two Copas del Rey, two UEFA Super Cups and three Club World Cups. In 2018, he signed for Juventus in a transfer worth an initial €100 million (&#163;88 million), the most expensive transfer for an Italian club and for a player over 30 years old. He won two Serie A titles, two Supercoppa Italiana trophies and a Coppa Italia, became the inaugural Serie A Most Valuable Player and became the first footballer to finish as top scorer in the English, Spanish and Italian leagues. He returned to Manchester United in 2021, finishing his only full season as the club&#39;s top scorer, before his contract was terminated in 2022. In 2023, he signed for Al Nassr.\r\n",
       "\r\n",
       "Ronaldo made his international debut for Portugal in 2003 at the age of 18 and has since earned more than 200 caps, making him both the country and history&#39;s most-capped player of all time, recognised by the Guinness World Records.[10] With more than 100 goals at international level, he is also the sports all-time top goalscorer. Ronaldo has played in and scored at eleven major tournaments; he scored his first international goal at Euro 2004, where he helped Portugal reach the final. He assumed captaincy of the national team in July 2008. In 2015, Ronaldo was named the best Portuguese player of all time by the Portuguese Football Federation. The following year, he led Portugal to their first major tournament title at Euro 2016, and received the Silver Boot as the second-highest goalscorer of the tournament. This achievement would see him receive his fourth Ballon d&#39;Or. He also led them to victory in the inaugural UEFA Nations League in 2019, receiving the top scorer award in the finals, and later received the Golden Boot as top scorer of Euro 2020.\r\n",
       "\r\n",
       "One of the world&#39;s most marketable and famous athletes, Ronaldo was ranked the world&#39;s highest-paid athlete by Forbes in 2016, 2017, and 2023, and the world&#39;s most famous athlete by ESPN from 2016 to 2019. Time included him on their list of the 100 most influential people in the world in 2014. He is the first footballer and the third sportsman to earn US$1 billion in his career.\r\n",
       "\r\n",
       "Early life\r\n",
       "Cristiano Ronaldo dos Santos Aveiro was born on 5 February 1985 in the S&#227;o Pedro parish of Funchal, the capital of the Portuguese island of Madeira, and grew up in the nearby parish of Santo Ant&#243;nio.[11][12] He is the fourth and youngest child of Maria Dolores dos Santos Viveiros da Aveiro, who worked as a cook in the hospitality industry and a cleaning woman,[13][14] and Jos&#233; Dinis Aveiro, a municipal gardener at the Junta de Freguesia of Santo Ant&#243;nio and part-time kit man for football club Andorinha.[15][16][17] His great-grandmother on his father&#39;s side, Isabel da Piedade, an African woman, was born in the island of S&#227;o Vicente, in what was then Portuguese Cape Verde, and moved to Madeira Island at 16.[18][19] He has one older brother, Hugo, and two older sisters, Elma and Liliana C&#225;tia &quot;Katia&quot;.[20] He was named after actor and U.S. President Ronald Reagan, whom his father was a fan of.[21] His mother revealed that she wanted to abort him due to poverty, his father&#39;s alcoholism, and having too many children already, but her doctor refused to perform the procedure,[22][23] as abortions were illegal in Portugal at that time.[24] Ronaldo grew up in an impoverished Roman Catholic home, sharing a room with all his siblings.[25]\r\n",
       "\r\n",
       "As a child, Ronaldo played for Andorinha from 1992 to 1995,[26] where his father was the kit man,[15] and later spent two years with Nacional. In 1997, aged 12, he went on a three-day trial with Sporting CP, who signed him for a fee of &#163;1,500.[27] He subsequently moved from Madeira to Lisbon to join Sporting CP&#39;s youth system.[27] By age 14, while struggling with his school duties and responsibilities in Escola EB2 de Telheiras, his school in the Telheiras area of Lisbon, Ronaldo believed he had the ability to play semi-professionally and agreed with his mother and his tutor at Sporting CP, Leonel Pontes,[28] to cease his education to focus entirely on football.[29][30] With a troubled life as a student[31] and although living in Lisbon area away from his Madeiran family,[32][33] he did not complete schooling beyond the 6th grade.[34][35] While popular with other students at school, he had been expelled after throwing a chair at his teacher, who he said had &quot;disrespected&quot; him.[29] One year later, he was diagnosed with tachycardia, a condition that could have forced him to give up playing football.[36] Ronaldo underwent heart surgery where a laser was used to cauterise multiple cardiac pathways into one, altering his resting heart rate.[37] He was discharged from the hospital hours after the procedure and resumed training a few days later.[38] In 2021, Cristiano Ronaldo&#39;s mother, Dolores Aveiro, stated in an interview for Sporting CP&#39;s official television channel (Sporting TV) that her son would be a bricklayer if he hadn&#39;t become a professional football player.[39]\r\n",
       "\r\n",
       "Club career\r\n",
       "Sporting CP\r\n",
       "\r\n",
       "Ronaldo memorabilia at Sporting CP&#39;s museum\r\n",
       "At age 16, Ronaldo was promoted from Sporting&#39;s youth team by first-team manager L&#225;szl&#243; B&#246;l&#246;ni, who was impressed with his dribbling.[40] He subsequently became the first player to play for the club&#39;s under-16, under-17 and under-18 teams, the B team and the first team, all within a single season.[27]\r\n",
       "\r\n",
       "On 14 August 2002,[41] Ronaldo, then 17, played his first official match for a Sporting CP&#39;s senior team, in a UEFA Champions League qualifying round at Jos&#233; Alvalade Stadium against Inter Milan. He came on in the 58th[41] minute in place of To&#241;ito.[42][43]\r\n",
       "\r\n",
       "As far as the Portuguese football league system&#39;s competitions is concerned, Sporting CP B was the 1st team in his senior career playing domestically, where he debuted in a 2–1 away loss against Sport Clube Lusit&#226;nia on 1 September 2002, in a game for the Segunda Divis&#227;o B championship played in the Azores.[44] On 29 September 2002, Ronaldo made his debut in the Primeira Liga, playing for Sporting CP&#39;s main team against Braga, and on 7 October, he scored two goals against Moreirense in their 3–0 win.[45] Over the course of the 2002–03 season, his representatives suggested the player to Liverpool manager G&#233;rard Houllier and Barcelona president Joan Laporta.[46] Manager Ars&#232;ne Wenger, who was interested in signing Ronaldo, met with him at Arsenal&#39;s stadium in November to discuss a possible transfer.[47]\r\n",
       "\r\n",
       "Manchester United manager Alex Ferguson was determined to acquire Ronaldo on a permanent move urgently, after Sporting defeated United 3–1 at the inauguration of the Est&#225;dio Jos&#233; Alvalade on 6 August 2003. Initially, United had planned to sign Ronaldo and loan him back to Sporting for a year.[48] Having been impressed by him, the United players urged Ferguson to sign him. After the game, Ferguson agreed to pay Sporting &#163;12.24 million[48] for what he considered to be &quot;one of the most exciting young players&quot; he had ever seen.[49] A decade after his departure from the club, in 2013, Sporting honoured Ronaldo by selecting him to become their 100,000th member.[50]\r\n",
       "\r\n",
       "Manchester United\r\n",
       "2003–2007: Development and breakthrough\r\n",
       "&quot;There have been a few players described as &#39;the new George Best&#39; over the years, but this is the first time it&#39;s been a compliment to me.&quot;\r\n",
       "\r\n",
       "—Former Manchester United player George Best hails the 18-year-old Cristiano Ronaldo in 2003.[51]\r\n",
       "\r\n",
       "Ronaldo&#39;s move to Manchester United was completed on 12 August 2003, too late for the 2003 FA Community Shield but in time for their game against Bolton Wanderers on the opening day of the 2003–04 season, and made him the first Portuguese player to sign for the club.[52] His transfer fee made him, at the time, the most expensive teenager in English football history.[53] Although he requested the number 28, his number at Sporting, he received the squad number 7 shirt, which had previously been worn by such United players as George Best, Eric Cantona and David Beckham.[54] Wearing the number 7 became an extra source of motivation for Ronaldo.[55] A key element in his development during his time in England proved to be Ferguson, of whom he later said: &quot;He&#39;s been my father in sport, one of the most important and influential factors in my career.&quot;[56]\r\n",
       "\r\n",
       "\r\n",
       "Ronaldo playing for Manchester United against Chelsea during the 2005–06 Premier League season\r\n",
       "Ronaldo made his debut as a substitute in a 4–0 home win over Bolton Wanderers in the Premier League on 16 August 2003, and received a standing ovation when he came on for Nicky Butt.[57] His performance earned praise from Best, who hailed it as &quot;undoubtedly the most exciting debut&quot; he had ever seen.[51] Ronaldo scored his first goal for Manchester United with a free-kick in a 3–0 win over Portsmouth on 1 November.[58] Three more league goals followed in the second half of the campaign,[59] the last of which came against Aston Villa on the final day of the season, a match in which he also received the first red card of his career.[60] Ronaldo ended his first season in English football by scoring the opening goal in United&#39;s 3–0 win over Millwall in the 2004 FA Cup Final, earning his first trophy.[61] BBC pundit Alan Hansen described him as the star of the final.[62] The British press had been critical of Ronaldo during the season for his &quot;elaborate&quot; step-overs in trying to beat opponents,[63] but teammate Gary Neville said he was &quot;not a show pony, but the real thing&quot;, and predicted he would become a world-class player.[64]\r\n",
       "\r\n",
       "&quot;He has got the tricks and party pieces, we know that, but they&#39;re not much good unless there is something at the end of it all. We still have to remember, of course, that the lad is only 19 years of age. Considering that, you have to say he has got massive talent. His feet are mesmerising at times, and if he can couple that with some consistently good crossing, the future looks frightening.&quot;\r\n",
       "\r\n",
       "—Former BBC pundit Alan Hansen commenting on Ronaldo after his first season.[62]\r\n",
       "\r\n",
       "Ronaldo scored United&#39;s 1,000th Premier League goal on 29 October 2004, their only goal in a 4–1 loss to Middlesbrough.[65] A few weeks later, he signed a new contract with the club that extended his previous deal by two years to 2010.[66] At the start of 2005, Ronaldo played two of his best matches of the 2004–05 season, producing a goal and an assist against Aston Villa and scoring twice against rivals Arsenal.[67][68] He played the full 120 minutes of the 2005 FA Cup Final against Arsenal, which ended in a goalless draw; although Ronaldo scored his attempt in the penalty shoot-out, United lost 5–4.[69] Ronaldo won his second trophy in English football, the Football League Cup, after scoring the third goal in United&#39;s 4–0 final win over Wigan Athletic.[70]\r\n",
       "\r\n",
       "During his third season in England, Ronaldo was involved in several incidents. He had a one-match ban imposed on him by UEFA for a &quot;one-fingered gesture&quot; towards Benfica fans,[71] and was sent off in the Manchester derby (a 3–1 defeat) for kicking Manchester City&#39;s former United player Andy Cole.[72] Ronaldo clashed with a teammate, striker Ruud van Nistelrooy, who took offence at the winger&#39;s showboating style of play.[73] Following the 2006 FIFA World Cup, in which he was involved in an incident where club teammate Wayne Rooney was sent off,[74] Ronaldo publicly asked for a transfer, lamenting the lack of support he felt he had received from the club over the incident.[75] United denied the possibility of him leaving the club.[76]\r\n",
       "\r\n",
       "Although his World Cup altercation with Rooney resulted in Ronaldo being booed throughout the 2006–07 season,[77] it proved to be his break-out year, as he broke the 20-goal barrier for the first time and won his first Premier League title. An important factor in this success was his one-to-one training by first-team coach Ren&#233; Meulensteen, who taught him to make himself more unpredictable, improve his teamwork, call for the ball and capitalise on goalscoring opportunities rather than waiting for the chance to score the aesthetically pleasing goals for which he was already known.[78] He scored three consecutive braces at the end of December, against Aston Villa (a win that put United on top of the league), Wigan and Reading.[79][80][81] Ronaldo was named the Premier League Player of the Month in November and December, becoming only the third player to receive consecutive honours.[82]\r\n",
       "\r\n",
       "2007–2008: Collective and individual success\r\n",
       "\r\n",
       "Ronaldo playing for Manchester United during the 2006–07 Premier League season\r\n",
       "At the quarter-final stage of the 2006–07 UEFA Champions League, Ronaldo scored his first goals in his 30th match in the competition,[83] scoring twice in a 7–1 win over Roma.[84] He subsequently scored four minutes into the first semi-final leg against Milan, which ended in a 3–2 win,[85] but was marked out of the second leg as United lost 3–0 at the San Siro.[86] He also helped United reach the 2007 FA Cup Final, but the final against Chelsea ended in a 1–0 defeat.[87] Ronaldo scored the only goal in the Manchester derby on 5 May (his 50th goal for the club), as United won their first league title in four years.[88] As a result of his performances, he amassed a host of personal awards for the season. He won the Professional Footballers&#39; Association&#39;s Player&#39;s Player, Fans&#39; Player and Young Player of the Year awards, as well as the Football Writers&#39; Association&#39;s Footballer of the Year award,[89][90] becoming the first player to win all four main PFA and FWA honours.[91] His wages were raised to &#163;120,000 a week as part of a five-year contract extension.[92] Ronaldo was named runner-up to Kak&#225; for the 2007 Ballon d&#39;Or,[93] and came third, behind Kak&#225; and Lionel Messi, in the running for the 2007 FIFA World Player of the Year award.[94]\r\n",
       "\r\n",
       "Ronaldo scored his first hat-trick for United in a 6–0 win against Newcastle United on 12 January 2008, which put United top of the league table.[95] On 19 March, he captained United for the first time in a home win over Bolton and scored both goals in a 2–0 win.[96] His second goal was his 33rd of the campaign, surpassing George Best&#39;s total of 32 goals in the 1967–68 season, setting the club&#39;s new single-season record by a midfielder.[97] His 31 league goals earned him the Premier League Golden Boot,[98] as well as the European Golden Shoe, which made him the first winger to win the latter award.[99] He additionally received the PFA Players&#39; Player of the Year and FWA Footballer of the Year awards for the second consecutive season.[100][101] In the knockout stage of the Champions League, Ronaldo scored the decisive goal against Lyon to help United advance to the quarter-finals 2–1 on aggregate;[102] while playing as a striker, he scored with a header in the 3–0 aggregate win over Roma.[103] United reached the final against Chelsea in Moscow on 21 May, where, despite his opening goal being negated by an equaliser and his penalty kick being saved in the shoot-out,[104] United emerged victorious 1–1, winning the penalties 6–5.[105][106] As the Champions League top scorer, Ronaldo was named the UEFA Club Footballer of the Year.[107]\r\n",
       "\r\n",
       "Ronaldo scored a total of 42 goals in all competitions during the 2007–08 season, his most prolific campaign during his time in England. He missed three matches after headbutting a Portsmouth player at the start of the season, an experience he said taught him not to let opponents provoke him.[108] As rumours circulated of Ronaldo&#39;s interest in moving to Real Madrid, United filed a tampering complaint with governing body FIFA over Madrid&#39;s alleged pursuit of their player, but they declined to take action.[109] FIFA president Sepp Blatter asserted that the player should be allowed to leave his club, describing the situation as &quot;modern slavery&quot;.[110] Despite Ronaldo publicly agreeing with Blatter,[111] he remained at United for another year.[112]\r\n",
       "\r\n",
       "2008–2009: Ballon d&#39;Or and continued success\r\n",
       "\r\n",
       "Ronaldo in 2009 with Manchester United playing in a Premier League game against Liverpool\r\n",
       "Ahead of the 2008–09 season, on 7 July, Ronaldo underwent ankle surgery,[113] which kept him out of action for 10 weeks.[114] Following his return, he scored his 100th goal in all competitions for United with the first of two free kicks in a 5–0 win against Stoke City on 15 November,[115] which meant he had now scored against all 19 opposition teams in the Premier League at the time.[116] At the close of 2008, Ronaldo helped United win the 2008 FIFA Club World Cup in Japan,[117] assisting the final-winning goal against Liga de Quito and winning the Silver Ball in the process.[118] With his 2008 Ballon d&#39;Or and 2008 FIFA World Player of the Year, Ronaldo became United&#39;s first Ballon d&#39;Or winner since Best in 1968,[119] and the first Premier League player to be named the FIFA World Player of the Year.[120]\r\n",
       "\r\n",
       "His match-winning goal in the second leg against Porto, a 40-yard strike, earned him the inaugural FIFA Pusk&#225;s Award, presented by FIFA in recognition of the best goal of the year;[121] he later called it the best goal he had ever scored.[122] United advanced to the final in Rome,[123] where he made little impact in United&#39;s 2–0 defeat to Barcelona.[124] Ronaldo ended his time in England with nine trophies, as United claimed their third successive league title and a Football League Cup.[125][126] He finished the campaign with 26 goals in all competitions, 16 goals fewer than the previous season, in four more appearances.[127] His final goal for United came on 10 May 2009 with a free kick in the Manchester derby at Old Trafford.[128]\r\n",
       "\r\n",
       "Real Madrid\r\n",
       "\r\n",
       "As his usual number 7 was unavailable, Ronaldo wore number 9 during his debut season at Madrid. After Ra&#250;l departed the club, Ronaldo was handed the number 7 shirt before the 2010–11 season.\r\n",
       "Ahead of the 2009–10 season, Ronaldo joined Real Madrid for a world record transfer fee at the time of &#163;80 million (€94 million).[129] His contract, which ran until 2015, was worth €11 million per year and contained a €1 billion buy-out clause.[130] At least 80,000 fans attended his presentation at the Santiago Bernab&#233;u, surpassing the 25-year record of 75,000 fans who had welcomed Diego Maradona at Napoli.[131] Since club captain Ra&#250;l already wore the number 7 (the number Ronaldo wore at United), Ronaldo received the number 9 shirt,[132] which was presented to him by former Madrid player Alfredo Di St&#233;fano.[133]\r\n",
       "\r\n",
       "2009–2013: World record transfer and La Liga title\r\n",
       "Ronaldo made his La Liga debut against Deportivo La Coru&#241;a on 29 August, scoring a penalty in a 3–2 home win.[134] He scored in each of his first four league games, the first Madrid player to do so.[135] His first Champions League goals for the club followed with two free kicks in the first group match against Z&#252;rich.[136] His strong start to the season was interrupted when he suffered an ankle injury in October while on international duty, which kept him sidelined for seven weeks.[137][138] A week after his return, he received his first red card in Spain in a match against Almer&#237;a.[139] Midway through the season, Ronaldo finished second in the 2009 Ballon d&#39;Or and the 2009 FIFA World Player of the Year awards, behind Messi. He finished the season with 33 goals in all competitions, including a hat-trick in a 4–1 win against Mallorca on 5 May 2010, his first in La Liga,[140][141] and became Real Madrid&#39;s highest goalscorer that season. Although Ronaldo helped amass a club record 96 points in the league, he did not win a trophy in his first season.[142][143]\r\n",
       "\r\n",
       "Following Ra&#250;l&#39;s departure, Ronaldo was given the number 7 shirt for Madrid before the 2010–11 season.[144] His subsequent return to his Ballon d&#39;Or-winning form was epitomised when, for the first time in his career, he scored four goals in a single match during a 6–1 rout against Racing Santander on 23 October.[145] Ronaldo subsequently scored further hat-tricks against Athletic Bilbao, Levante, Villarreal and M&#225;laga.[146][147][148] Despite his performances, he did not make the top three in the inaugural 2010 FIFA Ballon d&#39;Or.[149] During a historic series of four Cl&#225;sicos against rivals Barcelona in April 2011, Ronaldo scored twice to equal his personal record of 42 goals in all competitions. Though he failed to score in either leg of the Champions League semi-finals as Madrid were eliminated, he equalised from the penalty spot in the return league game and scored the match-winning goal in the 103rd minute of the 2011 Copa del Rey Final, winning his first trophy in Spain.[150][151] His two goals in the last match of the season against Almer&#237;a made him the first player in La Liga to score 40 goals.[152] In addition to the Pichichi Trophy, Ronaldo won the European Golden Shoe for a second time, becoming the first player to win the award in different leagues.[153]</pre></div></td></tr><tr><td>Embedding</td><td><div class=\"dni-plaintext\"><pre>[ -0.026868312, 0.0079383645, 0.017968507, -0.014395595, -0.007659028, 0.023568239, -0.01824135, -0.0052099577, -0.026283653, -0.034845654, 0.015629875, 0.014096769, -0.027751796, -0.016331464, 0.032195203, 0.0013227902, 0.016838169, -0.014993246, 0.013629042, -0.021970171 ... (1516 more) ]</pre></div></td></tr></tbody></table></div></details><style>\r\n",
       ".dni-code-hint {\r\n",
       "    font-style: italic;\r\n",
       "    overflow: hidden;\r\n",
       "    white-space: nowrap;\r\n",
       "}\r\n",
       ".dni-treeview {\r\n",
       "    white-space: nowrap;\r\n",
       "}\r\n",
       ".dni-treeview td {\r\n",
       "    vertical-align: top;\r\n",
       "    text-align: start;\r\n",
       "}\r\n",
       "details.dni-treeview {\r\n",
       "    padding-left: 1em;\r\n",
       "}\r\n",
       "table td {\r\n",
       "    text-align: start;\r\n",
       "}\r\n",
       "table tr { \r\n",
       "    vertical-align: top; \r\n",
       "    margin: 0em 0px;\r\n",
       "}\r\n",
       "table tr td pre \r\n",
       "{ \r\n",
       "    vertical-align: top !important; \r\n",
       "    margin: 0em 0px !important;\r\n",
       "} \r\n",
       "table th {\r\n",
       "    text-align: start;\r\n",
       "}\r\n",
       "</style>"
      ]
     },
     "metadata": {},
     "output_type": "display_data"
    }
   ],
   "source": [
    "sources.First()"
   ]
  },
  {
   "cell_type": "markdown",
   "metadata": {},
   "source": [
    "## Configure Chat Completion options\n"
   ]
  },
  {
   "cell_type": "code",
   "execution_count": 10,
   "metadata": {},
   "outputs": [],
   "source": [
    "var options = new ChatCompletionsOptions\n",
    "{\n",
    "    MaxTokens = 400, // https://platform.openai.com/tokenizer\n",
    "    Temperature = 1f, // Accuracy 0f highest, 1f creativity mode\n",
    "    FrequencyPenalty = 0.0f,\n",
    "    PresencePenalty = 0.0f,\n",
    "    NucleusSamplingFactor = 0.95f,\n",
    "    DeploymentName = \"gpt-4o\" // Models: https://platform.openai.com/docs/models\n",
    "};"
   ]
  },
  {
   "cell_type": "markdown",
   "metadata": {},
   "source": [
    "## Initialize chat history"
   ]
  },
  {
   "cell_type": "code",
   "execution_count": 11,
   "metadata": {},
   "outputs": [],
   "source": [
    "var messages = new List<ChatRequestMessage>();\n",
    "var systemMessage = new ChatRequestSystemMessage(systemPrompt);\n",
    "messages.Add(systemMessage);\n",
    "options.Messages.Add(systemMessage);"
   ]
  },
  {
   "cell_type": "markdown",
   "metadata": {},
   "source": [
    "## Start chat"
   ]
  },
  {
   "cell_type": "code",
   "execution_count": 12,
   "metadata": {},
   "outputs": [],
   "source": [
    "var chatting = true;"
   ]
  },
  {
   "cell_type": "code",
   "execution_count": 14,
   "metadata": {},
   "outputs": [
    {
     "name": "stdout",
     "output_type": "stream",
     "text": [
      "System: You are an AI Assistant that helps user answer questions about their data. \n",
      "\n",
      "You have access to articles to help you answer questions. \n",
      "\n",
      "Use only the contents from these documents to answer questions. \n",
      "## Chat History\n",
      "\n",
      "System: You are an AI Assistant that helps user answer questions about their data. \n",
      "\n",
      "You have access to articles to help you answer questions. \n",
      "\n",
      "Use only the contents from these documents to answer questions. \n",
      "\n",
      "User: How many goals did Cristiano Ronaldo score in 2014?\n",
      "\n",
      "\n",
      "## Sources\n",
      "\n",
      "Cristiano Ronaldo dos Santos Aveiro GOIH ComM (Portuguese pronunciation: [kɾiʃˈtjɐnu ʁɔˈnaldu]; born 5 February 1985) is a Portuguese professional footballer who plays as a forward for and captains both Saudi Pro League club Al Nassr and the Portugal national team. Widely regarded as one of the greatest players of all time, Ronaldo has won five Ballon d'Or awards,[note 3] a record three UEFA Men's Player of the Year Awards, and four European Golden Shoes, the most by a European player. He has won 33 trophies in his career, including seven league titles, five UEFA Champions Leagues, the UEFA European Championship and the UEFA Nations League. Ronaldo holds the records for most appearances (183), goals (140) and assists (42) in the Champions League, goals in the European Championship (14), international goals (128) and international appearances (206). He is one of the few players to have made over 1,200 professional career appearances, the most by an outfield player, and has scored over 890 official senior career goals for club and country, making him the top goalscorer of all time.\n",
      "\n",
      "Ronaldo began his senior career with Sporting CP, before signing with Manchester United in 2003, winning the FA Cup in his first season. He would also go on to win three consecutive Premier League titles, the Champions League and the FIFA Club World Cup; at age 23, he won his first Ballon d'Or. Ronaldo was the subject of the then-most expensive association football transfer when he signed for Real Madrid in 2009 in a transfer worth €94 million (£80 million). He became a key contributor and formed an attacking trio with Karim Benzema and Gareth Bale which was integral to the team winning four Champions Leagues from 2014 to 2018, including La Décima. During this period, he won back-to-back Ballons d'Or in 2013 and 2014, and again in 2016 and 2017, and was runner-up three times behind Lionel Messi, his perceived career rival. He also became the club's all-time top goalscorer and the all-time top scorer in the Champions League, and finished as the competition's top scorer for six consecutive seasons between 2012 and 2018. With Real, Ronaldo won four Champions Leagues, two La Liga titles, two Copas del Rey, two UEFA Super Cups and three Club World Cups. In 2018, he signed for Juventus in a transfer worth an initial €100 million (£88 million), the most expensive transfer for an Italian club and for a player over 30 years old. He won two Serie A titles, two Supercoppa Italiana trophies and a Coppa Italia, became the inaugural Serie A Most Valuable Player and became the first footballer to finish as top scorer in the English, Spanish and Italian leagues. He returned to Manchester United in 2021, finishing his only full season as the club's top scorer, before his contract was terminated in 2022. In 2023, he signed for Al Nassr.\n",
      "\n",
      "Ronaldo made his international debut for Portugal in 2003 at the age of 18 and has since earned more than 200 caps, making him both the country and history's most-capped player of all time, recognised by the Guinness World Records.[10] With more than 100 goals at international level, he is also the sports all-time top goalscorer. Ronaldo has played in and scored at eleven major tournaments; he scored his first international goal at Euro 2004, where he helped Portugal reach the final. He assumed captaincy of the national team in July 2008. In 2015, Ronaldo was named the best Portuguese player of all time by the Portuguese Football Federation. The following year, he led Portugal to their first major tournament title at Euro 2016, and received the Silver Boot as the second-highest goalscorer of the tournament. This achievement would see him receive his fourth Ballon d'Or. He also led them to victory in the inaugural UEFA Nations League in 2019, receiving the top scorer award in the finals, and later received the Golden Boot as top scorer of Euro 2020.\n",
      "\n",
      "One of the world's most marketable and famous athletes, Ronaldo was ranked the world's highest-paid athlete by Forbes in 2016, 2017, and 2023, and the world's most famous athlete by ESPN from 2016 to 2019. Time included him on their list of the 100 most influential people in the world in 2014. He is the first footballer and the third sportsman to earn US$1 billion in his career.\n",
      "\n",
      "Early life\n",
      "Cristiano Ronaldo dos Santos Aveiro was born on 5 February 1985 in the São Pedro parish of Funchal, the capital of the Portuguese island of Madeira, and grew up in the nearby parish of Santo António.[11][12] He is the fourth and youngest child of Maria Dolores dos Santos Viveiros da Aveiro, who worked as a cook in the hospitality industry and a cleaning woman,[13][14] and José Dinis Aveiro, a municipal gardener at the Junta de Freguesia of Santo António and part-time kit man for football club Andorinha.[15][16][17] His great-grandmother on his father's side, Isabel da Piedade, an African woman, was born in the island of São Vicente, in what was then Portuguese Cape Verde, and moved to Madeira Island at 16.[18][19] He has one older brother, Hugo, and two older sisters, Elma and Liliana Cátia \"Katia\".[20] He was named after actor and U.S. President Ronald Reagan, whom his father was a fan of.[21] His mother revealed that she wanted to abort him due to poverty, his father's alcoholism, and having too many children already, but her doctor refused to perform the procedure,[22][23] as abortions were illegal in Portugal at that time.[24] Ronaldo grew up in an impoverished Roman Catholic home, sharing a room with all his siblings.[25]\n",
      "\n",
      "As a child, Ronaldo played for Andorinha from 1992 to 1995,[26] where his father was the kit man,[15] and later spent two years with Nacional. In 1997, aged 12, he went on a three-day trial with Sporting CP, who signed him for a fee of £1,500.[27] He subsequently moved from Madeira to Lisbon to join Sporting CP's youth system.[27] By age 14, while struggling with his school duties and responsibilities in Escola EB2 de Telheiras, his school in the Telheiras area of Lisbon, Ronaldo believed he had the ability to play semi-professionally and agreed with his mother and his tutor at Sporting CP, Leonel Pontes,[28] to cease his education to focus entirely on football.[29][30] With a troubled life as a student[31] and although living in Lisbon area away from his Madeiran family,[32][33] he did not complete schooling beyond the 6th grade.[34][35] While popular with other students at school, he had been expelled after throwing a chair at his teacher, who he said had \"disrespected\" him.[29] One year later, he was diagnosed with tachycardia, a condition that could have forced him to give up playing football.[36] Ronaldo underwent heart surgery where a laser was used to cauterise multiple cardiac pathways into one, altering his resting heart rate.[37] He was discharged from the hospital hours after the procedure and resumed training a few days later.[38] In 2021, Cristiano Ronaldo's mother, Dolores Aveiro, stated in an interview for Sporting CP's official television channel (Sporting TV) that her son would be a bricklayer if he hadn't become a professional football player.[39]\n",
      "\n",
      "Club career\n",
      "Sporting CP\n",
      "\n",
      "Ronaldo memorabilia at Sporting CP's museum\n",
      "At age 16, Ronaldo was promoted from Sporting's youth team by first-team manager László Bölöni, who was impressed with his dribbling.[40] He subsequently became the first player to play for the club's under-16, under-17 and under-18 teams, the B team and the first team, all within a single season.[27]\n",
      "\n",
      "On 14 August 2002,[41] Ronaldo, then 17, played his first official match for a Sporting CP's senior team, in a UEFA Champions League qualifying round at José Alvalade Stadium against Inter Milan. He came on in the 58th[41] minute in place of Toñito.[42][43]\n",
      "\n",
      "As far as the Portuguese football league system's competitions is concerned, Sporting CP B was the 1st team in his senior career playing domestically, where he debuted in a 2–1 away loss against Sport Clube Lusitânia on 1 September 2002, in a game for the Segunda Divisão B championship played in the Azores.[44] On 29 September 2002, Ronaldo made his debut in the Primeira Liga, playing for Sporting CP's main team against Braga, and on 7 October, he scored two goals against Moreirense in their 3–0 win.[45] Over the course of the 2002–03 season, his representatives suggested the player to Liverpool manager Gérard Houllier and Barcelona president Joan Laporta.[46] Manager Arsène Wenger, who was interested in signing Ronaldo, met with him at Arsenal's stadium in November to discuss a possible transfer.[47]\n",
      "\n",
      "Manchester United manager Alex Ferguson was determined to acquire Ronaldo on a permanent move urgently, after Sporting defeated United 3–1 at the inauguration of the Estádio José Alvalade on 6 August 2003. Initially, United had planned to sign Ronaldo and loan him back to Sporting for a year.[48] Having been impressed by him, the United players urged Ferguson to sign him. After the game, Ferguson agreed to pay Sporting £12.24 million[48] for what he considered to be \"one of the most exciting young players\" he had ever seen.[49] A decade after his departure from the club, in 2013, Sporting honoured Ronaldo by selecting him to become their 100,000th member.[50]\n",
      "\n",
      "Manchester United\n",
      "2003–2007: Development and breakthrough\n",
      "\"There have been a few players described as 'the new George Best' over the years, but this is the first time it's been a compliment to me.\"\n",
      "\n",
      "—Former Manchester United player George Best hails the 18-year-old Cristiano Ronaldo in 2003.[51]\n",
      "\n",
      "Ronaldo's move to Manchester United was completed on 12 August 2003, too late for the 2003 FA Community Shield but in time for their game against Bolton Wanderers on the opening day of the 2003–04 season, and made him the first Portuguese player to sign for the club.[52] His transfer fee made him, at the time, the most expensive teenager in English football history.[53] Although he requested the number 28, his number at Sporting, he received the squad number 7 shirt, which had previously been worn by such United players as George Best, Eric Cantona and David Beckham.[54] Wearing the number 7 became an extra source of motivation for Ronaldo.[55] A key element in his development during his time in England proved to be Ferguson, of whom he later said: \"He's been my father in sport, one of the most important and influential factors in my career.\"[56]\n",
      "\n",
      "\n",
      "Ronaldo playing for Manchester United against Chelsea during the 2005–06 Premier League season\n",
      "Ronaldo made his debut as a substitute in a 4–0 home win over Bolton Wanderers in the Premier League on 16 August 2003, and received a standing ovation when he came on for Nicky Butt.[57] His performance earned praise from Best, who hailed it as \"undoubtedly the most exciting debut\" he had ever seen.[51] Ronaldo scored his first goal for Manchester United with a free-kick in a 3–0 win over Portsmouth on 1 November.[58] Three more league goals followed in the second half of the campaign,[59] the last of which came against Aston Villa on the final day of the season, a match in which he also received the first red card of his career.[60] Ronaldo ended his first season in English football by scoring the opening goal in United's 3–0 win over Millwall in the 2004 FA Cup Final, earning his first trophy.[61] BBC pundit Alan Hansen described him as the star of the final.[62] The British press had been critical of Ronaldo during the season for his \"elaborate\" step-overs in trying to beat opponents,[63] but teammate Gary Neville said he was \"not a show pony, but the real thing\", and predicted he would become a world-class player.[64]\n",
      "\n",
      "\"He has got the tricks and party pieces, we know that, but they're not much good unless there is something at the end of it all. We still have to remember, of course, that the lad is only 19 years of age. Considering that, you have to say he has got massive talent. His feet are mesmerising at times, and if he can couple that with some consistently good crossing, the future looks frightening.\"\n",
      "\n",
      "—Former BBC pundit Alan Hansen commenting on Ronaldo after his first season.[62]\n",
      "\n",
      "Ronaldo scored United's 1,000th Premier League goal on 29 October 2004, their only goal in a 4–1 loss to Middlesbrough.[65] A few weeks later, he signed a new contract with the club that extended his previous deal by two years to 2010.[66] At the start of 2005, Ronaldo played two of his best matches of the 2004–05 season, producing a goal and an assist against Aston Villa and scoring twice against rivals Arsenal.[67][68] He played the full 120 minutes of the 2005 FA Cup Final against Arsenal, which ended in a goalless draw; although Ronaldo scored his attempt in the penalty shoot-out, United lost 5–4.[69] Ronaldo won his second trophy in English football, the Football League Cup, after scoring the third goal in United's 4–0 final win over Wigan Athletic.[70]\n",
      "\n",
      "During his third season in England, Ronaldo was involved in several incidents. He had a one-match ban imposed on him by UEFA for a \"one-fingered gesture\" towards Benfica fans,[71] and was sent off in the Manchester derby (a 3–1 defeat) for kicking Manchester City's former United player Andy Cole.[72] Ronaldo clashed with a teammate, striker Ruud van Nistelrooy, who took offence at the winger's showboating style of play.[73] Following the 2006 FIFA World Cup, in which he was involved in an incident where club teammate Wayne Rooney was sent off,[74] Ronaldo publicly asked for a transfer, lamenting the lack of support he felt he had received from the club over the incident.[75] United denied the possibility of him leaving the club.[76]\n",
      "\n",
      "Although his World Cup altercation with Rooney resulted in Ronaldo being booed throughout the 2006–07 season,[77] it proved to be his break-out year, as he broke the 20-goal barrier for the first time and won his first Premier League title. An important factor in this success was his one-to-one training by first-team coach René Meulensteen, who taught him to make himself more unpredictable, improve his teamwork, call for the ball and capitalise on goalscoring opportunities rather than waiting for the chance to score the aesthetically pleasing goals for which he was already known.[78] He scored three consecutive braces at the end of December, against Aston Villa (a win that put United on top of the league), Wigan and Reading.[79][80][81] Ronaldo was named the Premier League Player of the Month in November and December, becoming only the third player to receive consecutive honours.[82]\n",
      "\n",
      "2007–2008: Collective and individual success\n",
      "\n",
      "Ronaldo playing for Manchester United during the 2006–07 Premier League season\n",
      "At the quarter-final stage of the 2006–07 UEFA Champions League, Ronaldo scored his first goals in his 30th match in the competition,[83] scoring twice in a 7–1 win over Roma.[84] He subsequently scored four minutes into the first semi-final leg against Milan, which ended in a 3–2 win,[85] but was marked out of the second leg as United lost 3–0 at the San Siro.[86] He also helped United reach the 2007 FA Cup Final, but the final against Chelsea ended in a 1–0 defeat.[87] Ronaldo scored the only goal in the Manchester derby on 5 May (his 50th goal for the club), as United won their first league title in four years.[88] As a result of his performances, he amassed a host of personal awards for the season. He won the Professional Footballers' Association's Player's Player, Fans' Player and Young Player of the Year awards, as well as the Football Writers' Association's Footballer of the Year award,[89][90] becoming the first player to win all four main PFA and FWA honours.[91] His wages were raised to £120,000 a week as part of a five-year contract extension.[92] Ronaldo was named runner-up to Kaká for the 2007 Ballon d'Or,[93] and came third, behind Kaká and Lionel Messi, in the running for the 2007 FIFA World Player of the Year award.[94]\n",
      "\n",
      "Ronaldo scored his first hat-trick for United in a 6–0 win against Newcastle United on 12 January 2008, which put United top of the league table.[95] On 19 March, he captained United for the first time in a home win over Bolton and scored both goals in a 2–0 win.[96] His second goal was his 33rd of the campaign, surpassing George Best's total of 32 goals in the 1967–68 season, setting the club's new single-season record by a midfielder.[97] His 31 league goals earned him the Premier League Golden Boot,[98] as well as the European Golden Shoe, which made him the first winger to win the latter award.[99] He additionally received the PFA Players' Player of the Year and FWA Footballer of the Year awards for the second consecutive season.[100][101] In the knockout stage of the Champions League, Ronaldo scored the decisive goal against Lyon to help United advance to the quarter-finals 2–1 on aggregate;[102] while playing as a striker, he scored with a header in the 3–0 aggregate win over Roma.[103] United reached the final against Chelsea in Moscow on 21 May, where, despite his opening goal being negated by an equaliser and his penalty kick being saved in the shoot-out,[104] United emerged victorious 1–1, winning the penalties 6–5.[105][106] As the Champions League top scorer, Ronaldo was named the UEFA Club Footballer of the Year.[107]\n",
      "\n",
      "Ronaldo scored a total of 42 goals in all competitions during the 2007–08 season, his most prolific campaign during his time in England. He missed three matches after headbutting a Portsmouth player at the start of the season, an experience he said taught him not to let opponents provoke him.[108] As rumours circulated of Ronaldo's interest in moving to Real Madrid, United filed a tampering complaint with governing body FIFA over Madrid's alleged pursuit of their player, but they declined to take action.[109] FIFA president Sepp Blatter asserted that the player should be allowed to leave his club, describing the situation as \"modern slavery\".[110] Despite Ronaldo publicly agreeing with Blatter,[111] he remained at United for another year.[112]\n",
      "\n",
      "2008–2009: Ballon d'Or and continued success\n",
      "\n",
      "Ronaldo in 2009 with Manchester United playing in a Premier League game against Liverpool\n",
      "Ahead of the 2008–09 season, on 7 July, Ronaldo underwent ankle surgery,[113] which kept him out of action for 10 weeks.[114] Following his return, he scored his 100th goal in all competitions for United with the first of two free kicks in a 5–0 win against Stoke City on 15 November,[115] which meant he had now scored against all 19 opposition teams in the Premier League at the time.[116] At the close of 2008, Ronaldo helped United win the 2008 FIFA Club World Cup in Japan,[117] assisting the final-winning goal against Liga de Quito and winning the Silver Ball in the process.[118] With his 2008 Ballon d'Or and 2008 FIFA World Player of the Year, Ronaldo became United's first Ballon d'Or winner since Best in 1968,[119] and the first Premier League player to be named the FIFA World Player of the Year.[120]\n",
      "\n",
      "His match-winning goal in the second leg against Porto, a 40-yard strike, earned him the inaugural FIFA Puskás Award, presented by FIFA in recognition of the best goal of the year;[121] he later called it the best goal he had ever scored.[122] United advanced to the final in Rome,[123] where he made little impact in United's 2–0 defeat to Barcelona.[124] Ronaldo ended his time in England with nine trophies, as United claimed their third successive league title and a Football League Cup.[125][126] He finished the campaign with 26 goals in all competitions, 16 goals fewer than the previous season, in four more appearances.[127] His final goal for United came on 10 May 2009 with a free kick in the Manchester derby at Old Trafford.[128]\n",
      "\n",
      "Real Madrid\n",
      "\n",
      "As his usual number 7 was unavailable, Ronaldo wore number 9 during his debut season at Madrid. After Raúl departed the club, Ronaldo was handed the number 7 shirt before the 2010–11 season.\n",
      "Ahead of the 2009–10 season, Ronaldo joined Real Madrid for a world record transfer fee at the time of £80 million (€94 million).[129] His contract, which ran until 2015, was worth €11 million per year and contained a €1 billion buy-out clause.[130] At least 80,000 fans attended his presentation at the Santiago Bernabéu, surpassing the 25-year record of 75,000 fans who had welcomed Diego Maradona at Napoli.[131] Since club captain Raúl already wore the number 7 (the number Ronaldo wore at United), Ronaldo received the number 9 shirt,[132] which was presented to him by former Madrid player Alfredo Di Stéfano.[133]\n",
      "\n",
      "2009–2013: World record transfer and La Liga title\n",
      "Ronaldo made his La Liga debut against Deportivo La Coruña on 29 August, scoring a penalty in a 3–2 home win.[134] He scored in each of his first four league games, the first Madrid player to do so.[135] His first Champions League goals for the club followed with two free kicks in the first group match against Zürich.[136] His strong start to the season was interrupted when he suffered an ankle injury in October while on international duty, which kept him sidelined for seven weeks.[137][138] A week after his return, he received his first red card in Spain in a match against Almería.[139] Midway through the season, Ronaldo finished second in the 2009 Ballon d'Or and the 2009 FIFA World Player of the Year awards, behind Messi. He finished the season with 33 goals in all competitions, including a hat-trick in a 4–1 win against Mallorca on 5 May 2010, his first in La Liga,[140][141] and became Real Madrid's highest goalscorer that season. Although Ronaldo helped amass a club record 96 points in the league, he did not win a trophy in his first season.[142][143]\n",
      "\n",
      "Following Raúl's departure, Ronaldo was given the number 7 shirt for Madrid before the 2010–11 season.[144] His subsequent return to his Ballon d'Or-winning form was epitomised when, for the first time in his career, he scored four goals in a single match during a 6–1 rout against Racing Santander on 23 October.[145] Ronaldo subsequently scored further hat-tricks against Athletic Bilbao, Levante, Villarreal and Málaga.[146][147][148] Despite his performances, he did not make the top three in the inaugural 2010 FIFA Ballon d'Or.[149] During a historic series of four Clásicos against rivals Barcelona in April 2011, Ronaldo scored twice to equal his personal record of 42 goals in all competitions. Though he failed to score in either leg of the Champions League semi-finals as Madrid were eliminated, he equalised from the penalty spot in the return league game and scored the match-winning goal in the 103rd minute of the 2011 Copa del Rey Final, winning his first trophy in Spain.[150][151] His two goals in the last match of the season against Almería made him the first player in La Liga to score 40 goals.[152] In addition to the Pichichi Trophy, Ronaldo won the European Golden Shoe for a second time, becoming the first player to win the award in different leagues.[153]\n",
      "\n",
      "## Query\n",
      "How many goals did Cristiano Ronaldo score in 2014?\n",
      "\n",
      "## Response\n",
      "Assistant: Cristiano Ronaldo scored a total of 61 goals in 2014. This figure includes goals scored across all competitions for both his club and country.\n",
      "\n",
      "-----\n",
      "\n"
     ]
    }
   ],
   "source": [
    "Console.WriteLine($\"{FormatMessage(systemMessage)}\");\n",
    "\n",
    "while(chatting)\n",
    "{\n",
    "    //Get User input\n",
    "    var userInput = await Kernel.GetInputAsync(\"Please enter your prompt. Press 'q' to quit.\");\n",
    "    if(userInput.ToLowerInvariant() == \"q\")\n",
    "    {\n",
    "        chatting = false;\n",
    "        break;    \n",
    "    }\n",
    "    \n",
    "    // Query relevant documents\n",
    "    var embeddingOptions = new EmbeddingsOptions\n",
    "    {\n",
    "        DeploymentName = \"text-embedding-ada-002\",\n",
    "        Input={userInput}\n",
    "    };\n",
    "\n",
    "    var embeddingResponse = await client.GetEmbeddingsAsync(embeddingOptions);\n",
    "    var inputEmbedding = embeddingResponse.Value.Data[0].Embedding.ToArray();\n",
    "    var docs = \n",
    "        GetTopKDocuments(sources, inputEmbedding, 3)\n",
    "            .Select(doc => doc.Text)\n",
    "            .ToArray();\n",
    "\n",
    "    // Generate User Prompt\n",
    "    messages.Add(new ChatRequestUserMessage(userInput));\n",
    "    var query = RenderUserPrompt(messages, docs, userInput);\n",
    "    var userMessage = new ChatRequestUserMessage(query);\n",
    "    options.Messages.Add(userMessage);\n",
    "    Console.WriteLine(query);\n",
    "    \n",
    "    // Generate response\n",
    "    var assistantResponse = await client.GetChatCompletionsAsync(options);\n",
    "    var response = assistantResponse.Value.Choices[0].Message.Content;\n",
    "    var assistantMessage = new ChatRequestAssistantMessage(response);\n",
    "    Console.WriteLine($\"\\n## Response\\n{FormatMessage(assistantMessage)}\\n\");\n",
    "    messages.Add(assistantMessage);\n",
    "    options.Messages.Add(assistantMessage);\n",
    "    Console.WriteLine(\"-----\");\n",
    "    Console.WriteLine(\"\");\n",
    "};\n",
    "\n",
    "messages.Clear();\n",
    "options.Messages.Clear();"
   ]
  }
 ],
 "metadata": {
  "kernelspec": {
   "display_name": ".NET (C#)",
   "language": "C#",
   "name": ".net-csharp"
  },
  "polyglot_notebook": {
   "kernelInfo": {
    "defaultKernelName": "csharp",
    "items": [
     {
      "aliases": [],
      "languageName": "csharp",
      "name": "csharp"
     }
    ]
   }
  }
 },
 "nbformat": 4,
 "nbformat_minor": 2
}
