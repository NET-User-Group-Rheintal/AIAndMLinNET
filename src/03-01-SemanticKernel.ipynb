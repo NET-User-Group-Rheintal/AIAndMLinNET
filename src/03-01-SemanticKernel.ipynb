{
 "cells": [
  {
   "cell_type": "markdown",
   "metadata": {},
   "source": [
    "# Semantic Kernel"
   ]
  },
  {
   "cell_type": "markdown",
   "metadata": {},
   "source": [
    "## Install Nugets"
   ]
  },
  {
   "cell_type": "code",
   "execution_count": null,
   "metadata": {
    "dotnet_interactive": {
     "language": "csharp"
    },
    "polyglot_notebook": {
     "kernelName": "csharp"
    }
   },
   "outputs": [],
   "source": [
    "#r \"nuget: Microsoft.SemanticKernel, 1.13.0\"\n",
    "#r \"nuget: Microsoft.DotNet.Interactive, 1.0.0-beta.24229.4\""
   ]
  },
  {
   "cell_type": "code",
   "execution_count": null,
   "metadata": {
    "dotnet_interactive": {
     "language": "csharp"
    },
    "polyglot_notebook": {
     "kernelName": "csharp"
    }
   },
   "outputs": [],
   "source": [
    "using Microsoft.SemanticKernel;"
   ]
  },
  {
   "cell_type": "code",
   "execution_count": null,
   "metadata": {
    "dotnet_interactive": {
     "language": "csharp"
    },
    "polyglot_notebook": {
     "kernelName": "csharp"
    }
   },
   "outputs": [],
   "source": [
    "Kernel kernel = Kernel.CreateBuilder()\n",
    "    // Can be changed to other Models\n",
    "    .AddOpenAIChatCompletion(\"gpt-4o\", Environment.GetEnvironmentVariable(\"OAI_KEY\")!)\n",
    "    .Build();"
   ]
  },
  {
   "cell_type": "code",
   "execution_count": null,
   "metadata": {
    "dotnet_interactive": {
     "language": "csharp"
    },
    "polyglot_notebook": {
     "kernelName": "csharp"
    }
   },
   "outputs": [],
   "source": [
    "while (true)\n",
    "{\n",
    "    Console.WriteLine(\"Q: \");\n",
    "    var userPrompt = await Microsoft.DotNet.Interactive.Kernel.GetInputAsync(\"Your prompt\");\n",
    "    Console.WriteLine($\"User: {userPrompt}\");\n",
    "    Console.WriteLine(await kernel.InvokePromptAsync(userPrompt));\n",
    "}"
   ]
  },
  {
   "cell_type": "markdown",
   "metadata": {},
   "source": [
    "# Zero memory stateless.\n",
    "Keep State and add history"
   ]
  },
  {
   "cell_type": "code",
   "execution_count": null,
   "metadata": {
    "dotnet_interactive": {
     "language": "csharp"
    },
    "polyglot_notebook": {
     "kernelName": "csharp"
    }
   },
   "outputs": [],
   "source": [
    "using Microsoft.SemanticKernel.ChatCompletion;\n",
    "var chatService = kernel.GetRequiredService<IChatCompletionService>();\n",
    "ChatHistory chat = new();"
   ]
  },
  {
   "cell_type": "markdown",
   "metadata": {},
   "source": [
    "Adding chat to response"
   ]
  },
  {
   "cell_type": "code",
   "execution_count": null,
   "metadata": {
    "dotnet_interactive": {
     "language": "csharp"
    },
    "polyglot_notebook": {
     "kernelName": "csharp"
    }
   },
   "outputs": [],
   "source": [
    "while (true)\n",
    "{\n",
    "    Console.WriteLine(\"Q: \");\n",
    "    var message = await Microsoft.DotNet.Interactive.Kernel.GetInputAsync(\"Your prompt\");\n",
    "    chat.AddUserMessage(message);\n",
    "    Console.WriteLine($\"User: {message}\");\n",
    "    \n",
    "    var response = await chatService.GetChatMessageContentAsync(chat);\n",
    "\n",
    "    Console.WriteLine(response);\n",
    "    chat.Add(response);\n",
    "}"
   ]
  }
 ],
 "metadata": {
  "kernelspec": {
   "display_name": ".NET (C#)",
   "language": "C#",
   "name": ".net-csharp"
  },
  "polyglot_notebook": {
   "kernelInfo": {
    "defaultKernelName": "csharp",
    "items": [
     {
      "aliases": [],
      "languageName": "csharp",
      "name": "csharp"
     }
    ]
   }
  }
 },
 "nbformat": 4,
 "nbformat_minor": 2
}
