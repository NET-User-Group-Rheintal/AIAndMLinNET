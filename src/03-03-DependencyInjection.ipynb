{
 "cells": [
  {
   "cell_type": "markdown",
   "metadata": {},
   "source": [
    "# Dependency Injection"
   ]
  },
  {
   "cell_type": "code",
   "execution_count": null,
   "metadata": {
    "dotnet_interactive": {
     "language": "csharp"
    },
    "polyglot_notebook": {
     "kernelName": "csharp"
    }
   },
   "outputs": [],
   "source": [
    "#r \"nuget: Microsoft.SemanticKernel, 1.13.0\"\n",
    "#r \"nuget: Microsoft.DotNet.Interactive, 1.0.0-beta.24229.4\"\n",
    "#r \"nuget: Microsoft.Extensions.DependencyInjection, 8.0.0\"\n",
    "#r \"nuget: Microsoft.Extensions.Logging, 8.0.0\"\n",
    "#r \"nuget: Microsoft.Extensions.Logging.Console, 8.0.0\"\n",
    "#r \"nuget: Microsoft.Extensions.Logging.Debug, 8.0.0\"\n",
    "#r \"nuget: Microsoft.SemanticKernel.Plugins.OpenApi, 1.13.0-alpha\"\n",
    "#r \"nuget: Microsoft.SemanticKernel.Plugins.Web, 1.13.0-alpha\"\n",
    "#r \"nuget: Microsoft.Extensions.Http, 8.0.0\"\n",
    "#r \"nuget: Microsoft.Extensions.Http.Resilience\"\n",
    "#r \"nuget: Microsoft.Extensions.Compliance.Redaction\"\n",
    "\n"
   ]
  },
  {
   "cell_type": "code",
   "execution_count": null,
   "metadata": {
    "dotnet_interactive": {
     "language": "csharp"
    },
    "polyglot_notebook": {
     "kernelName": "csharp"
    }
   },
   "outputs": [],
   "source": [
    "using Microsoft.SemanticKernel;\n",
    "using Microsoft.SemanticKernel.ChatCompletion;\n",
    "using Microsoft.SemanticKernel.Connectors.OpenAI;\n",
    "using Microsoft.Extensions.DependencyInjection;\n",
    "using Microsoft.Extensions.Logging;\n",
    "using Microsoft.SemanticKernel.Plugins.OpenApi;\n",
    "using Microsoft.SemanticKernel.Plugins.Web;\n",
    "using Microsoft.SemanticKernel.Plugins.Web.Bing;\n",
    "using Microsoft.Extensions.Compliance.Redaction;"
   ]
  },
  {
   "cell_type": "markdown",
   "metadata": {},
   "source": [
    "# Seperate Builder"
   ]
  },
  {
   "cell_type": "code",
   "execution_count": null,
   "metadata": {
    "dotnet_interactive": {
     "language": "csharp"
    },
    "polyglot_notebook": {
     "kernelName": "csharp"
    }
   },
   "outputs": [],
   "source": [
    "var builder = Kernel.CreateBuilder();\n"
   ]
  },
  {
   "cell_type": "markdown",
   "metadata": {},
   "source": [
    "## Add Logging"
   ]
  },
  {
   "cell_type": "code",
   "execution_count": null,
   "metadata": {
    "dotnet_interactive": {
     "language": "csharp"
    },
    "polyglot_notebook": {
     "kernelName": "csharp"
    }
   },
   "outputs": [],
   "source": [
    "builder.Services.AddLogging(b => b.AddConsole().SetMinimumLevel(LogLevel.Trace));"
   ]
  },
  {
   "cell_type": "code",
   "execution_count": null,
   "metadata": {
    "dotnet_interactive": {
     "language": "csharp"
    },
    "polyglot_notebook": {
     "kernelName": "csharp"
    }
   },
   "outputs": [],
   "source": [
    "Kernel kernel = builder\n",
    "    .AddOpenAIChatCompletion(\"gpt-4o\", Environment.GetEnvironmentVariable(\"OAI_KEY\")!)\n",
    "    .Build();\n"
   ]
  },
  {
   "cell_type": "code",
   "execution_count": null,
   "metadata": {
    "dotnet_interactive": {
     "language": "csharp"
    },
    "polyglot_notebook": {
     "kernelName": "csharp"
    }
   },
   "outputs": [],
   "source": [
    "var settings = new OpenAIPromptExecutionSettings() { ToolCallBehavior = ToolCallBehavior.AutoInvokeKernelFunctions };\n",
    "var chatService = kernel.GetRequiredService<IChatCompletionService>();\n",
    "ChatHistory chat = new();"
   ]
  },
  {
   "cell_type": "markdown",
   "metadata": {},
   "source": [
    "## Add Settings and Kernel to ChatService\n",
    "Show in Rider."
   ]
  },
  {
   "cell_type": "code",
   "execution_count": null,
   "metadata": {
    "dotnet_interactive": {
     "language": "csharp"
    },
    "polyglot_notebook": {
     "kernelName": "csharp"
    }
   },
   "outputs": [],
   "source": [
    "while (true)\n",
    "{\n",
    "    Console.WriteLine(\"Q: \");\n",
    "    var message = await Microsoft.DotNet.Interactive.Kernel.GetInputAsync(\"Your prompt\");\n",
    "    chat.AddUserMessage(message);\n",
    "    Console.WriteLine($\"User: {message}\");\n",
    "    \n",
    "    var response = await chatService.GetChatMessageContentAsync(chat, settings, kernel); // <-- Added settings and kernel\n",
    "\n",
    "    Console.WriteLine(response);\n",
    "    chat.Add(response);\n",
    "}"
   ]
  },
  {
   "cell_type": "markdown",
   "metadata": {},
   "source": [
    "## Import from everywhere\n",
    "- `kernel.ImportPluginFromFunctions();`\n",
    "- `kernel.ImportPluginFromObject();`\n",
    "- `kernel.ImportPluginFromType<>();`\n",
    "- `kernel.ImportPluginFromOpenApiAsync()`\n",
    "## Add Websearch to our AI"
   ]
  },
  {
   "cell_type": "code",
   "execution_count": null,
   "metadata": {
    "dotnet_interactive": {
     "language": "csharp"
    },
    "polyglot_notebook": {
     "kernelName": "csharp"
    }
   },
   "outputs": [],
   "source": [
    "#pragma warning disable SKEXP0050\n",
    "kernel.ImportPluginFromObject(new Microsoft.SemanticKernel.Plugins.Web.WebSearchEnginePlugin(\n",
    "    new BingConnector(Environment.GetEnvironmentVariable(\"BING_API_KEY\")!)));"
   ]
  },
  {
   "cell_type": "code",
   "execution_count": null,
   "metadata": {
    "dotnet_interactive": {
     "language": "csharp"
    },
    "polyglot_notebook": {
     "kernelName": "csharp"
    }
   },
   "outputs": [],
   "source": [
    "while (true)\n",
    "{\n",
    "    Console.WriteLine(\"Q: \");\n",
    "    var message = await Microsoft.DotNet.Interactive.Kernel.GetInputAsync(\"Your prompt\");\n",
    "    chat.AddUserMessage(message);\n",
    "    Console.WriteLine($\"User: {message}\");\n",
    "    \n",
    "    var response = await chatService.GetChatMessageContentAsync(chat, settings, kernel);\n",
    "\n",
    "    Console.WriteLine(response);\n",
    "    chat.Add(response);\n",
    "}"
   ]
  },
  {
   "cell_type": "markdown",
   "metadata": {},
   "source": [
    "## Any other service with DI"
   ]
  },
  {
   "cell_type": "code",
   "execution_count": null,
   "metadata": {
    "dotnet_interactive": {
     "language": "csharp"
    },
    "polyglot_notebook": {
     "kernelName": "csharp"
    }
   },
   "outputs": [],
   "source": [
    "builder.Services.ConfigureHttpClientDefaults( b => {\n",
    "    b.AddStandardResilienceHandler();\n",
    "    b.RedactLoggedHeaders([\"Authorization\"]); // --> Hide API key\n",
    "});\n",
    "builder.Services.AddRedaction();"
   ]
  }
 ],
 "metadata": {
  "kernelspec": {
   "display_name": ".NET (C#)",
   "language": "C#",
   "name": ".net-csharp"
  },
  "polyglot_notebook": {
   "kernelInfo": {
    "defaultKernelName": "csharp",
    "items": [
     {
      "aliases": [],
      "languageName": "csharp",
      "name": "csharp"
     }
    ]
   }
  }
 },
 "nbformat": 4,
 "nbformat_minor": 2
}
